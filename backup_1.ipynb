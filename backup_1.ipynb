{
 "cells": [
  {
   "cell_type": "code",
   "execution_count": 2,
   "metadata": {},
   "outputs": [
    {
     "name": "stdout",
     "output_type": "stream",
     "text": [
      "--------\n",
      "   ء  ا  ب  ة  ت  ث  ج  ح  د  ذ ...  ع  ف  ق  ك  ل   م    ن  ه  ى  ي\n",
      "1  0  0  0  0  0  0  0  0  0  0 ...  0  0  0  0  0   3    4  0  0  0\n",
      "2  0  0  9  0  0  0  0  0  7  0 ...  0  0  1  0  1  54  193  0  0  0\n",
      "\n",
      "[2 rows x 28 columns]\n"
     ]
    },
    {
     "name": "stderr",
     "output_type": "stream",
     "text": [
      "No handles with labels found to put in legend.\n",
      "No handles with labels found to put in legend.\n",
      "No handles with labels found to put in legend.\n",
      "No handles with labels found to put in legend.\n",
      "No handles with labels found to put in legend.\n",
      "No handles with labels found to put in legend.\n",
      "No handles with labels found to put in legend.\n",
      "No handles with labels found to put in legend.\n",
      "No handles with labels found to put in legend.\n",
      "No handles with labels found to put in legend.\n",
      "No handles with labels found to put in legend.\n",
      "No handles with labels found to put in legend.\n",
      "No handles with labels found to put in legend.\n",
      "No handles with labels found to put in legend.\n",
      "No handles with labels found to put in legend.\n",
      "No handles with labels found to put in legend.\n",
      "No handles with labels found to put in legend.\n",
      "No handles with labels found to put in legend.\n",
      "No handles with labels found to put in legend.\n",
      "No handles with labels found to put in legend.\n",
      "No handles with labels found to put in legend.\n"
     ]
    },
    {
     "data": {
      "image/png": "[encoded data removed]",
      "text/plain": [
       "<matplotlib.figure.Figure at 0x10202d860>"
      ]
     },
     "metadata": {},
     "output_type": "display_data"
    }
   ],
   "source": [
    "import csv\n",
    "import pandas as pd\n",
    "import unicodedata\n",
    "import matplotlib.pyplot as plt\n",
    "\n",
    "\n",
    "def read_csv(input_path):\n",
    "    l = []\n",
    "    with open(input_path) as fb:\n",
    "        fbreader = csv.reader(fb , delimiter='|', quoting=csv.QUOTE_NONE)\n",
    "        x = 0\n",
    "        for row in fbreader:\n",
    "            l.append(row)\n",
    "    \n",
    "    return l\n",
    "def filterDiac(row):\n",
    "    f = ''\n",
    "    for e in row:\n",
    "        if(unicodedata.category(e) == 'Lo' or unicodedata.category(e) == 'Zs' ):\n",
    "            f += e\n",
    "    return f.strip()\n",
    "def read_panda(input_path):\n",
    "    df = pd.read_csv(input_path, header=None, delimiter='|', names=[\"sorah\", \"aya\", \"txt\"], index_col=None)\n",
    "    df['indx'] = df.index.tolist()\n",
    "    df['txt-diac'] = df['txt'].apply(filterDiac)\n",
    "    df['txt-last'] = df['txt-diac'].apply(lambda x : x[len(x)-1])\n",
    "    df = df.set_index('sorah')\n",
    "    #print(df.head())\n",
    "    sorat = df.groupby('sorah')\n",
    "    #ldf = pd.DataFrame(columns=['sora', 'char', 'count'])\n",
    "    last_aya = {}\n",
    "    aya_per_sora = {}\n",
    "    for name, group in sorat:\n",
    "        for s in group['txt-last']:\n",
    "            if(s not in last_aya):\n",
    "                last_aya[s] = 1\n",
    "            else:\n",
    "                last_aya[s] = last_aya[s] + 1\n",
    "        aya_per_sora[name] = last_aya\n",
    "        last_aya = {}\n",
    "        #break\n",
    "    print(\"--------\")\n",
    "    #for idx in aya_per_sora:\n",
    "        #for n in aya_per_sora[idx]:\n",
    "            #print(idx, '--', n, '--', aya_per_sora[idx][n])\n",
    "    ldf = pd.DataFrame.from_dict(aya_per_sora, orient='index')\n",
    "    ldf.sort_index(axis=1, inplace=True)\n",
    "    ldf = ldf.fillna(0)\n",
    "    ldf = ldf.astype('int32')\n",
    "    #fig = plt.figure()\n",
    "    gdf = ldf.iloc[0:2]\n",
    "    print(gdf)\n",
    "    plot = gdf.plot.pie(subplots=True, fontsize=17, figsize=(6, 3))\n",
    "    #gdf.iloc[0].plot.pie(subplots=True, fontsize=20, figsize=(50, 50))\n",
    "    #ldf.iloc[18].plot.pie(subplots=True, fontsize=20, figsize=(18, 14))\n",
    "    #ldf.iloc[0].plot(kind = 'bar')\n",
    "    #print(ldf.head())\n",
    "    #print(sorat.describe())\n",
    "    #print(sorat.get_group(3))\n",
    "    #ltrs = df['txt-last']\n",
    "    #print(ltrs)\n",
    "    #for e in ltrs[0]:\n",
    "        #print(unicodedata.category(e), ' ---- ', e)\n",
    "read_panda('./Arabic-Original.csv')\n"
   ]
  },
  {
   "cell_type": "code",
   "execution_count": null,
   "metadata": {},
   "outputs": [],
   "source": []
  }
 ],
 "metadata": {
  "kernelspec": {
   "display_name": "Python 3",
   "language": "python",
   "name": "python3"
  },
  "language_info": {
   "codemirror_mode": {
    "name": "ipython",
    "version": 3
   },
   "file_extension": ".py",
   "mimetype": "text/x-python",
   "name": "python",
   "nbconvert_exporter": "python",
   "pygments_lexer": "ipython3",
   "version": "3.6.4"
  }
 },
 "nbformat": 4,
 "nbformat_minor": 2
}
