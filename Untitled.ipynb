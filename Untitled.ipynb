{
 "cells": [
  {
   "cell_type": "code",
   "execution_count": 112,
   "metadata": {},
   "outputs": [
    {
     "ename": "AttributeError",
     "evalue": "'int' object has no attribute 'astype'",
     "output_type": "error",
     "traceback": [
      "\u001b[0;31m---------------------------------------------------------------------------\u001b[0m",
      "\u001b[0;31mAttributeError\u001b[0m                            Traceback (most recent call last)",
      "\u001b[0;32m<ipython-input-112-27684559412e>\u001b[0m in \u001b[0;36m<module>\u001b[0;34m()\u001b[0m\n\u001b[1;32m     55\u001b[0m     \u001b[0;31m#for e in ltrs[0]:\u001b[0m\u001b[0;34m\u001b[0m\u001b[0;34m\u001b[0m\u001b[0m\n\u001b[1;32m     56\u001b[0m         \u001b[0;31m#print(unicodedata.category(e), ' ---- ', e)\u001b[0m\u001b[0;34m\u001b[0m\u001b[0;34m\u001b[0m\u001b[0m\n\u001b[0;32m---> 57\u001b[0;31m \u001b[0mread_panda\u001b[0m\u001b[0;34m(\u001b[0m\u001b[0;34m'./Arabic-Original.csv'\u001b[0m\u001b[0;34m)\u001b[0m\u001b[0;34m\u001b[0m\u001b[0m\n\u001b[0m",
      "\u001b[0;32m<ipython-input-112-27684559412e>\u001b[0m in \u001b[0;36mread_panda\u001b[0;34m(input_path)\u001b[0m\n\u001b[1;32m     35\u001b[0m                 \u001b[0mlast_aya\u001b[0m\u001b[0;34m[\u001b[0m\u001b[0ms\u001b[0m\u001b[0;34m]\u001b[0m \u001b[0;34m=\u001b[0m \u001b[0;36m1\u001b[0m\u001b[0;34m\u001b[0m\u001b[0m\n\u001b[1;32m     36\u001b[0m             \u001b[0;32melse\u001b[0m\u001b[0;34m:\u001b[0m\u001b[0;34m\u001b[0m\u001b[0m\n\u001b[0;32m---> 37\u001b[0;31m                 \u001b[0mlast_aya\u001b[0m\u001b[0;34m[\u001b[0m\u001b[0ms\u001b[0m\u001b[0;34m]\u001b[0m \u001b[0;34m=\u001b[0m \u001b[0;34m(\u001b[0m\u001b[0mlast_aya\u001b[0m\u001b[0;34m[\u001b[0m\u001b[0ms\u001b[0m\u001b[0;34m]\u001b[0m \u001b[0;34m+\u001b[0m \u001b[0;36m1\u001b[0m\u001b[0;34m)\u001b[0m\u001b[0;34m.\u001b[0m\u001b[0mastype\u001b[0m\u001b[0;34m(\u001b[0m\u001b[0mint\u001b[0m\u001b[0;34m)\u001b[0m\u001b[0;34m\u001b[0m\u001b[0m\n\u001b[0m\u001b[1;32m     38\u001b[0m         \u001b[0maya_per_sora\u001b[0m\u001b[0;34m[\u001b[0m\u001b[0mname\u001b[0m\u001b[0;34m]\u001b[0m \u001b[0;34m=\u001b[0m \u001b[0mlast_aya\u001b[0m\u001b[0;34m\u001b[0m\u001b[0m\n\u001b[1;32m     39\u001b[0m         \u001b[0mlast_aya\u001b[0m \u001b[0;34m=\u001b[0m \u001b[0;34m{\u001b[0m\u001b[0;34m}\u001b[0m\u001b[0;34m\u001b[0m\u001b[0m\n",
      "\u001b[0;31mAttributeError\u001b[0m: 'int' object has no attribute 'astype'"
     ]
    }
   ],
   "source": [
    "import csv\n",
    "import pandas as pd\n",
    "import unicodedata\n",
    "import matplotlib.pyplot as plt\n",
    "\n",
    "def read_csv(input_path):\n",
    "    l = []\n",
    "    with open(input_path) as fb:\n",
    "        fbreader = csv.reader(fb , delimiter='|', quoting=csv.QUOTE_NONE)\n",
    "        x = 0\n",
    "        for row in fbreader:\n",
    "            l.append(row)\n",
    "    \n",
    "    return l\n",
    "def filterDiac(row):\n",
    "    f = ''\n",
    "    for e in row:\n",
    "        if(unicodedata.category(e) == 'Lo' or unicodedata.category(e) == 'Zs' ):\n",
    "            f += e\n",
    "    return f.strip()\n",
    "def read_panda(input_path):\n",
    "    df = pd.read_csv(input_path, header=None, delimiter='|', names=[\"sorah\", \"aya\", \"txt\"], index_col=None)\n",
    "    df['indx'] = df.index.tolist()\n",
    "    df['txt-diac'] = df['txt'].apply(filterDiac)\n",
    "    df['txt-last'] = df['txt-diac'].apply(lambda x : x[len(x)-1])\n",
    "    df = df.set_index('sorah')\n",
    "    #print(df.head())\n",
    "    sorat = df.groupby('sorah')\n",
    "    #ldf = pd.DataFrame(columns=['sora', 'char', 'count'])\n",
    "    last_aya = {}\n",
    "    aya_per_sora = {}\n",
    "    for name, group in sorat:\n",
    "        for s in group['txt-last']:\n",
    "            if(s not in last_aya):\n",
    "                last_aya[s] = 1\n",
    "            else:\n",
    "                last_aya[s] = last_aya[s] + 1\n",
    "        aya_per_sora[name] = last_aya\n",
    "        last_aya = {}\n",
    "        #break\n",
    "    print(\"--------\")\n",
    "    #for idx in aya_per_sora:\n",
    "        #for n in aya_per_sora[idx]:\n",
    "            #print(idx, '--', n, '--', aya_per_sora[idx][n])\n",
    "    ldf = pd.DataFrame.from_dict(aya_per_sora, orient='index')\n",
    "    ldf.sort_index(axis=1, inplace=True)\n",
    "    ldf = ldf.iloc[0].fillna(0)\n",
    "    plt.figure(); ldf.plot(kind = 'bar')\n",
    "    print(ldf)\n",
    "    #print(ldf.head())\n",
    "    #print(sorat.describe())\n",
    "    #print(sorat.get_group(3))\n",
    "    #ltrs = df['txt-last']\n",
    "    #print(ltrs)\n",
    "    #for e in ltrs[0]:\n",
    "        #print(unicodedata.category(e), ' ---- ', e)\n",
    "read_panda('./Arabic-Original.csv')\n"
   ]
  },
  {
   "cell_type": "code",
   "execution_count": null,
   "metadata": {},
   "outputs": [],
   "source": []
  }
 ],
 "metadata": {
  "kernelspec": {
   "display_name": "Python 3",
   "language": "python",
   "name": "python3"
  },
  "language_info": {
   "codemirror_mode": {
    "name": "ipython",
    "version": 3
   },
   "file_extension": ".py",
   "mimetype": "text/x-python",
   "name": "python",
   "nbconvert_exporter": "python",
   "pygments_lexer": "ipython3",
   "version": "3.6.4"
  }
 },
 "nbformat": 4,
 "nbformat_minor": 2
}
